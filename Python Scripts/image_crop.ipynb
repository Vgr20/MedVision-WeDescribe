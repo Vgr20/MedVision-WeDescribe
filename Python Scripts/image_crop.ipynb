{
 "cells": [
  {
   "cell_type": "code",
   "metadata": {
    "ExecuteTime": {
     "end_time": "2024-04-07T17:11:58.159852Z",
     "start_time": "2024-04-07T17:11:57.971471Z"
    }
   },
   "source": [
    "import os\n",
    "from PIL import Image\n",
    "\n",
    "# Input and output folders\n",
    "input_folder = \"images/gauge/\"\n",
    "output_folder = \"images/cropped_gauge/\"\n",
    "\n",
    "# Ensure the output folder exists, if not, create it\n",
    "if not os.path.exists(output_folder):\n",
    "    os.makedirs(output_folder)\n",
    "\n",
    "# Iterate through all files in the input folder\n",
    "for filename in os.listdir(input_folder):\n",
    "    # Check if the file is an image file\n",
    "    if filename.endswith(\".png\") or filename.endswith(\".jpg\") or filename.endswith(\".jpeg\"):\n",
    "        # Open the image\n",
    "        im = Image.open(os.path.join(input_folder, filename))\n",
    "        \n",
    "        # Define cropping points\n",
    "        left = 300\n",
    "        top = 130\n",
    "        right = 725\n",
    "        bottom = 400\n",
    "        \n",
    "        # Crop the image\n",
    "        im1 = im.crop((left, top, right, bottom))\n",
    "        \n",
    "        # Save the cropped image with the same filename to the output folder\n",
    "        output_path = os.path.join(output_folder, filename)\n",
    "        im1.save(output_path)\n",
    "\n",
    "# Inform the user that the operation is complete\n",
    "print(\"Cropping operation completed for all images.\")\n"
   ],
   "outputs": [
    {
     "name": "stdout",
     "output_type": "stream",
     "text": [
      "Cropping operation completed for all images.\n"
     ]
    }
   ],
   "execution_count": 2
  },
  {
   "metadata": {},
   "cell_type": "code",
   "outputs": [],
   "execution_count": null,
   "source": ""
  }
 ],
 "metadata": {
  "kernelspec": {
   "display_name": "huggingface",
   "language": "python",
   "name": "python3"
  },
  "language_info": {
   "codemirror_mode": {
    "name": "ipython",
    "version": 3
   },
   "file_extension": ".py",
   "mimetype": "text/x-python",
   "name": "python",
   "nbconvert_exporter": "python",
   "pygments_lexer": "ipython3",
   "version": "3.12.2"
  }
 },
 "nbformat": 4,
 "nbformat_minor": 2
}
