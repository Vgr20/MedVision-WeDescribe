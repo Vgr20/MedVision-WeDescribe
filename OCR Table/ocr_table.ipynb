{
 "cells": [
  {
   "cell_type": "code",
   "execution_count": 31,
   "metadata": {},
   "outputs": [
    {
     "name": "stdout",
     "output_type": "stream",
     "text": [
      "dict_keys(['public_id', 'status', 'error', 'results'])\n"
     ]
    }
   ],
   "source": [
    "import requests\n",
    "import json\n",
    "\n",
    "headers = {\"Authorization\": \"Bearer api_key\"}\n",
    "# url=\"https://api.edenai.run/v2/ocr/ocr_tables_async\"\n",
    "\n",
    "# file_url = \"https://developer.mozilla.org/en-US/docs/Learn/HTML/Tables/Basics/numbers-table.png\"\n",
    "# provider = \"amazon\"\n",
    "\n",
    "# payload={\n",
    "#     \"providers\": provider,\n",
    "#     \"file_url\": file_url,\n",
    "#     \"language\":\"en\",\n",
    "# }\n",
    "\n",
    "# response = requests.post(url, json=payload, headers=headers)\n",
    "# result = response.json()\n",
    "file_path = r\"D:\\Gen AI IEEE\\OCR Table\\2.jpg\"\n",
    "\n",
    "url = \"https://api.edenai.run/v2/ocr/ocr_tables_async\"\n",
    "data = {\n",
    "    \"providers\": \"microsoft,google\",\n",
    "    'language': 'en'\n",
    "}\n",
    "files = {'file': open(file_path, 'rb')}\n",
    "\n",
    "response = requests.post(url, data=data, files=files, headers=headers)\n",
    "\n",
    "result = json.loads(response.text)\n",
    "\n",
    "print(result.keys())\n",
    "job_id = result['public_id']"
   ]
  },
  {
   "cell_type": "code",
   "execution_count": 32,
   "metadata": {},
   "outputs": [],
   "source": [
    "import time\n",
    "\n",
    "def poll_ocr_table_job(job_id: str, max_poll_count = 10, poll_interval_sec = 5) -> dict:\n",
    "    \"\"\"\n",
    "    Poll asynchronous job every `poll_interval_sec` seconds\n",
    "    Raises Exception if job still not finished after `max_poll_count`\n",
    "    \"\"\"\n",
    "    for i in range(max_poll_count):\n",
    "        time.sleep(poll_interval_sec)\n",
    "        response = requests.get(f\"{url}/{job_id}\", headers=headers)\n",
    "        data = response.json()\n",
    "        if data['status'] == 'finished':\n",
    "            return data\n",
    "    raise Exception(\"Call took too long.\")\n",
    "\n",
    "\n",
    "poll_response = poll_ocr_table_job(job_id)\n",
    "# we know there is only one page and one table\n",
    "# in reality you can iterate over pages and create one cv file per table found\n",
    "json_table = poll_response['results'][\"microsoft\"]['pages'][0]['tables'][0]"
   ]
  },
  {
   "cell_type": "code",
   "execution_count": 33,
   "metadata": {},
   "outputs": [],
   "source": [
    "csv_table = []\n",
    "for row in json_table['rows']:\n",
    "    csv_row = []\n",
    "\n",
    "    for cell in row['cells']:\n",
    "        csv_row.append(cell['text'])\n",
    "\n",
    "    csv_table.append(csv_row)"
   ]
  },
  {
   "cell_type": "code",
   "execution_count": 34,
   "metadata": {},
   "outputs": [],
   "source": [
    "import csv\n",
    "import os\n",
    "\n",
    "file_name = os.path.basename(file_path)\n",
    "\n",
    "with open(f\"{file_name}.csv\", 'w') as csvfile:\n",
    "    tablewriter = csv.writer(csvfile)\n",
    "    tablewriter.writerows(csv_table)"
   ]
  },
  {
   "cell_type": "code",
   "execution_count": null,
   "metadata": {},
   "outputs": [],
   "source": []
  }
 ],
 "metadata": {
  "kernelspec": {
   "display_name": "Python 3",
   "language": "python",
   "name": "python3"
  },
  "language_info": {
   "codemirror_mode": {
    "name": "ipython",
    "version": 3
   },
   "file_extension": ".py",
   "mimetype": "text/x-python",
   "name": "python",
   "nbconvert_exporter": "python",
   "pygments_lexer": "ipython3",
   "version": "3.11.4"
  }
 },
 "nbformat": 4,
 "nbformat_minor": 2
}
